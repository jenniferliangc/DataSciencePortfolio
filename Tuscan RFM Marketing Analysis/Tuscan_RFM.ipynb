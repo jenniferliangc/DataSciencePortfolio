{
  "nbformat": 4,
  "nbformat_minor": 0,
  "metadata": {
    "colab": {
      "provenance": []
    },
    "kernelspec": {
      "name": "python3",
      "display_name": "Python 3"
    },
    "language_info": {
      "name": "python"
    }
  },
  "cells": [
    {
      "cell_type": "code",
      "execution_count": 1,
      "metadata": {
        "id": "YaOgC_5XShln",
        "colab": {
          "base_uri": "https://localhost:8080/"
        },
        "outputId": "6c82668f-cbfc-447e-bff2-69790ce84893"
      },
      "outputs": [
        {
          "output_type": "stream",
          "name": "stdout",
          "text": [
            "Mounted at /content/drive/\n"
          ]
        }
      ],
      "source": [
        "from google.colab import drive\n",
        "drive.mount('/content/drive/',force_remount=True)\n",
        "\n",
        "import os\n",
        "os.chdir(\"/content/drive/MyDrive/Colab Notebooks/UGBA167\")"
      ]
    },
    {
      "cell_type": "code",
      "source": [
        "import pandas as pd\n",
        "import mba263"
      ],
      "metadata": {
        "id": "Y5Vd42FOS-Hj"
      },
      "execution_count": 2,
      "outputs": []
    },
    {
      "cell_type": "code",
      "source": [
        "data = pd.read_csv(\"tuscan_rfm.csv\")"
      ],
      "metadata": {
        "id": "ACxh_fPATRyJ"
      },
      "execution_count": 3,
      "outputs": []
    },
    {
      "cell_type": "code",
      "source": [
        "data.head()"
      ],
      "metadata": {
        "id": "j_KRnZQ6TXCf",
        "colab": {
          "base_uri": "https://localhost:8080/",
          "height": 206
        },
        "outputId": "672ee187-140a-4808-841f-68f77d03450a"
      },
      "execution_count": 4,
      "outputs": [
        {
          "output_type": "execute_result",
          "data": {
            "text/plain": [
              "   numords  totdol  last buyer  dollars  rfm1  rfm2\n",
              "0        7     493   207    no        0   222   211\n",
              "1        4     423   625    no        0   421   422\n",
              "2        4     246    28    no        0   134   122\n",
              "3        3     271   778    no        0   523   532\n",
              "4        2     148   396    no        0   343   343"
            ],
            "text/html": [
              "\n",
              "  <div id=\"df-8affd820-aa50-40dc-9e5a-ae77f019bcd0\">\n",
              "    <div class=\"colab-df-container\">\n",
              "      <div>\n",
              "<style scoped>\n",
              "    .dataframe tbody tr th:only-of-type {\n",
              "        vertical-align: middle;\n",
              "    }\n",
              "\n",
              "    .dataframe tbody tr th {\n",
              "        vertical-align: top;\n",
              "    }\n",
              "\n",
              "    .dataframe thead th {\n",
              "        text-align: right;\n",
              "    }\n",
              "</style>\n",
              "<table border=\"1\" class=\"dataframe\">\n",
              "  <thead>\n",
              "    <tr style=\"text-align: right;\">\n",
              "      <th></th>\n",
              "      <th>numords</th>\n",
              "      <th>totdol</th>\n",
              "      <th>last</th>\n",
              "      <th>buyer</th>\n",
              "      <th>dollars</th>\n",
              "      <th>rfm1</th>\n",
              "      <th>rfm2</th>\n",
              "    </tr>\n",
              "  </thead>\n",
              "  <tbody>\n",
              "    <tr>\n",
              "      <th>0</th>\n",
              "      <td>7</td>\n",
              "      <td>493</td>\n",
              "      <td>207</td>\n",
              "      <td>no</td>\n",
              "      <td>0</td>\n",
              "      <td>222</td>\n",
              "      <td>211</td>\n",
              "    </tr>\n",
              "    <tr>\n",
              "      <th>1</th>\n",
              "      <td>4</td>\n",
              "      <td>423</td>\n",
              "      <td>625</td>\n",
              "      <td>no</td>\n",
              "      <td>0</td>\n",
              "      <td>421</td>\n",
              "      <td>422</td>\n",
              "    </tr>\n",
              "    <tr>\n",
              "      <th>2</th>\n",
              "      <td>4</td>\n",
              "      <td>246</td>\n",
              "      <td>28</td>\n",
              "      <td>no</td>\n",
              "      <td>0</td>\n",
              "      <td>134</td>\n",
              "      <td>122</td>\n",
              "    </tr>\n",
              "    <tr>\n",
              "      <th>3</th>\n",
              "      <td>3</td>\n",
              "      <td>271</td>\n",
              "      <td>778</td>\n",
              "      <td>no</td>\n",
              "      <td>0</td>\n",
              "      <td>523</td>\n",
              "      <td>532</td>\n",
              "    </tr>\n",
              "    <tr>\n",
              "      <th>4</th>\n",
              "      <td>2</td>\n",
              "      <td>148</td>\n",
              "      <td>396</td>\n",
              "      <td>no</td>\n",
              "      <td>0</td>\n",
              "      <td>343</td>\n",
              "      <td>343</td>\n",
              "    </tr>\n",
              "  </tbody>\n",
              "</table>\n",
              "</div>\n",
              "      <button class=\"colab-df-convert\" onclick=\"convertToInteractive('df-8affd820-aa50-40dc-9e5a-ae77f019bcd0')\"\n",
              "              title=\"Convert this dataframe to an interactive table.\"\n",
              "              style=\"display:none;\">\n",
              "        \n",
              "  <svg xmlns=\"http://www.w3.org/2000/svg\" height=\"24px\"viewBox=\"0 0 24 24\"\n",
              "       width=\"24px\">\n",
              "    <path d=\"M0 0h24v24H0V0z\" fill=\"none\"/>\n",
              "    <path d=\"M18.56 5.44l.94 2.06.94-2.06 2.06-.94-2.06-.94-.94-2.06-.94 2.06-2.06.94zm-11 1L8.5 8.5l.94-2.06 2.06-.94-2.06-.94L8.5 2.5l-.94 2.06-2.06.94zm10 10l.94 2.06.94-2.06 2.06-.94-2.06-.94-.94-2.06-.94 2.06-2.06.94z\"/><path d=\"M17.41 7.96l-1.37-1.37c-.4-.4-.92-.59-1.43-.59-.52 0-1.04.2-1.43.59L10.3 9.45l-7.72 7.72c-.78.78-.78 2.05 0 2.83L4 21.41c.39.39.9.59 1.41.59.51 0 1.02-.2 1.41-.59l7.78-7.78 2.81-2.81c.8-.78.8-2.07 0-2.86zM5.41 20L4 18.59l7.72-7.72 1.47 1.35L5.41 20z\"/>\n",
              "  </svg>\n",
              "      </button>\n",
              "      \n",
              "  <style>\n",
              "    .colab-df-container {\n",
              "      display:flex;\n",
              "      flex-wrap:wrap;\n",
              "      gap: 12px;\n",
              "    }\n",
              "\n",
              "    .colab-df-convert {\n",
              "      background-color: #E8F0FE;\n",
              "      border: none;\n",
              "      border-radius: 50%;\n",
              "      cursor: pointer;\n",
              "      display: none;\n",
              "      fill: #1967D2;\n",
              "      height: 32px;\n",
              "      padding: 0 0 0 0;\n",
              "      width: 32px;\n",
              "    }\n",
              "\n",
              "    .colab-df-convert:hover {\n",
              "      background-color: #E2EBFA;\n",
              "      box-shadow: 0px 1px 2px rgba(60, 64, 67, 0.3), 0px 1px 3px 1px rgba(60, 64, 67, 0.15);\n",
              "      fill: #174EA6;\n",
              "    }\n",
              "\n",
              "    [theme=dark] .colab-df-convert {\n",
              "      background-color: #3B4455;\n",
              "      fill: #D2E3FC;\n",
              "    }\n",
              "\n",
              "    [theme=dark] .colab-df-convert:hover {\n",
              "      background-color: #434B5C;\n",
              "      box-shadow: 0px 1px 3px 1px rgba(0, 0, 0, 0.15);\n",
              "      filter: drop-shadow(0px 1px 2px rgba(0, 0, 0, 0.3));\n",
              "      fill: #FFFFFF;\n",
              "    }\n",
              "  </style>\n",
              "\n",
              "      <script>\n",
              "        const buttonEl =\n",
              "          document.querySelector('#df-8affd820-aa50-40dc-9e5a-ae77f019bcd0 button.colab-df-convert');\n",
              "        buttonEl.style.display =\n",
              "          google.colab.kernel.accessAllowed ? 'block' : 'none';\n",
              "\n",
              "        async function convertToInteractive(key) {\n",
              "          const element = document.querySelector('#df-8affd820-aa50-40dc-9e5a-ae77f019bcd0');\n",
              "          const dataTable =\n",
              "            await google.colab.kernel.invokeFunction('convertToInteractive',\n",
              "                                                     [key], {});\n",
              "          if (!dataTable) return;\n",
              "\n",
              "          const docLinkHtml = 'Like what you see? Visit the ' +\n",
              "            '<a target=\"_blank\" href=https://colab.research.google.com/notebooks/data_table.ipynb>data table notebook</a>'\n",
              "            + ' to learn more about interactive tables.';\n",
              "          element.innerHTML = '';\n",
              "          dataTable['output_type'] = 'display_data';\n",
              "          await google.colab.output.renderOutput(dataTable, element);\n",
              "          const docLink = document.createElement('div');\n",
              "          docLink.innerHTML = docLinkHtml;\n",
              "          element.appendChild(docLink);\n",
              "        }\n",
              "      </script>\n",
              "    </div>\n",
              "  </div>\n",
              "  "
            ]
          },
          "metadata": {},
          "execution_count": 4
        }
      ]
    },
    {
      "cell_type": "code",
      "source": [
        "data.shape"
      ],
      "metadata": {
        "id": "tkdYgJKLTu9E",
        "colab": {
          "base_uri": "https://localhost:8080/"
        },
        "outputId": "6c2682e5-236c-4b2f-d2c4-8a56e672f3f8"
      },
      "execution_count": 5,
      "outputs": [
        {
          "output_type": "execute_result",
          "data": {
            "text/plain": [
              "(96551, 7)"
            ]
          },
          "metadata": {},
          "execution_count": 5
        }
      ]
    },
    {
      "cell_type": "markdown",
      "source": [
        "## **1. What percent of customers responded (i.e. bought anything) from this catalog?**\n",
        "\n",
        "2.45% of customers bought something after being sent this catalog"
      ],
      "metadata": {
        "id": "2Ppjz1UhUw7A"
      }
    },
    {
      "cell_type": "code",
      "source": [
        "percentage_responded = len(data[data['buyer'] == 'yes']) / len(data)\n",
        "print(percentage_responded)\n",
        "\n",
        "mba263.tabulate(data['buyer'])"
      ],
      "metadata": {
        "id": "QticYocsTxOj",
        "colab": {
          "base_uri": "https://localhost:8080/",
          "height": 130
        },
        "outputId": "bd5fe017-23e3-4dbd-c94e-891b6249c384"
      },
      "execution_count": 6,
      "outputs": [
        {
          "output_type": "stream",
          "name": "stdout",
          "text": [
            "0.0245569698915599\n"
          ]
        },
        {
          "output_type": "execute_result",
          "data": {
            "text/plain": [
              "  Name  Count  Frequency\n",
              "0   no  94180   0.975443\n",
              "1  yes   2371   0.024557"
            ],
            "text/html": [
              "\n",
              "  <div id=\"df-abedf38c-b2e1-42a8-a233-81d8f155f115\">\n",
              "    <div class=\"colab-df-container\">\n",
              "      <div>\n",
              "<style scoped>\n",
              "    .dataframe tbody tr th:only-of-type {\n",
              "        vertical-align: middle;\n",
              "    }\n",
              "\n",
              "    .dataframe tbody tr th {\n",
              "        vertical-align: top;\n",
              "    }\n",
              "\n",
              "    .dataframe thead th {\n",
              "        text-align: right;\n",
              "    }\n",
              "</style>\n",
              "<table border=\"1\" class=\"dataframe\">\n",
              "  <thead>\n",
              "    <tr style=\"text-align: right;\">\n",
              "      <th></th>\n",
              "      <th>Name</th>\n",
              "      <th>Count</th>\n",
              "      <th>Frequency</th>\n",
              "    </tr>\n",
              "  </thead>\n",
              "  <tbody>\n",
              "    <tr>\n",
              "      <th>0</th>\n",
              "      <td>no</td>\n",
              "      <td>94180</td>\n",
              "      <td>0.975443</td>\n",
              "    </tr>\n",
              "    <tr>\n",
              "      <th>1</th>\n",
              "      <td>yes</td>\n",
              "      <td>2371</td>\n",
              "      <td>0.024557</td>\n",
              "    </tr>\n",
              "  </tbody>\n",
              "</table>\n",
              "</div>\n",
              "      <button class=\"colab-df-convert\" onclick=\"convertToInteractive('df-abedf38c-b2e1-42a8-a233-81d8f155f115')\"\n",
              "              title=\"Convert this dataframe to an interactive table.\"\n",
              "              style=\"display:none;\">\n",
              "        \n",
              "  <svg xmlns=\"http://www.w3.org/2000/svg\" height=\"24px\"viewBox=\"0 0 24 24\"\n",
              "       width=\"24px\">\n",
              "    <path d=\"M0 0h24v24H0V0z\" fill=\"none\"/>\n",
              "    <path d=\"M18.56 5.44l.94 2.06.94-2.06 2.06-.94-2.06-.94-.94-2.06-.94 2.06-2.06.94zm-11 1L8.5 8.5l.94-2.06 2.06-.94-2.06-.94L8.5 2.5l-.94 2.06-2.06.94zm10 10l.94 2.06.94-2.06 2.06-.94-2.06-.94-.94-2.06-.94 2.06-2.06.94z\"/><path d=\"M17.41 7.96l-1.37-1.37c-.4-.4-.92-.59-1.43-.59-.52 0-1.04.2-1.43.59L10.3 9.45l-7.72 7.72c-.78.78-.78 2.05 0 2.83L4 21.41c.39.39.9.59 1.41.59.51 0 1.02-.2 1.41-.59l7.78-7.78 2.81-2.81c.8-.78.8-2.07 0-2.86zM5.41 20L4 18.59l7.72-7.72 1.47 1.35L5.41 20z\"/>\n",
              "  </svg>\n",
              "      </button>\n",
              "      \n",
              "  <style>\n",
              "    .colab-df-container {\n",
              "      display:flex;\n",
              "      flex-wrap:wrap;\n",
              "      gap: 12px;\n",
              "    }\n",
              "\n",
              "    .colab-df-convert {\n",
              "      background-color: #E8F0FE;\n",
              "      border: none;\n",
              "      border-radius: 50%;\n",
              "      cursor: pointer;\n",
              "      display: none;\n",
              "      fill: #1967D2;\n",
              "      height: 32px;\n",
              "      padding: 0 0 0 0;\n",
              "      width: 32px;\n",
              "    }\n",
              "\n",
              "    .colab-df-convert:hover {\n",
              "      background-color: #E2EBFA;\n",
              "      box-shadow: 0px 1px 2px rgba(60, 64, 67, 0.3), 0px 1px 3px 1px rgba(60, 64, 67, 0.15);\n",
              "      fill: #174EA6;\n",
              "    }\n",
              "\n",
              "    [theme=dark] .colab-df-convert {\n",
              "      background-color: #3B4455;\n",
              "      fill: #D2E3FC;\n",
              "    }\n",
              "\n",
              "    [theme=dark] .colab-df-convert:hover {\n",
              "      background-color: #434B5C;\n",
              "      box-shadow: 0px 1px 3px 1px rgba(0, 0, 0, 0.15);\n",
              "      filter: drop-shadow(0px 1px 2px rgba(0, 0, 0, 0.3));\n",
              "      fill: #FFFFFF;\n",
              "    }\n",
              "  </style>\n",
              "\n",
              "      <script>\n",
              "        const buttonEl =\n",
              "          document.querySelector('#df-abedf38c-b2e1-42a8-a233-81d8f155f115 button.colab-df-convert');\n",
              "        buttonEl.style.display =\n",
              "          google.colab.kernel.accessAllowed ? 'block' : 'none';\n",
              "\n",
              "        async function convertToInteractive(key) {\n",
              "          const element = document.querySelector('#df-abedf38c-b2e1-42a8-a233-81d8f155f115');\n",
              "          const dataTable =\n",
              "            await google.colab.kernel.invokeFunction('convertToInteractive',\n",
              "                                                     [key], {});\n",
              "          if (!dataTable) return;\n",
              "\n",
              "          const docLinkHtml = 'Like what you see? Visit the ' +\n",
              "            '<a target=\"_blank\" href=https://colab.research.google.com/notebooks/data_table.ipynb>data table notebook</a>'\n",
              "            + ' to learn more about interactive tables.';\n",
              "          element.innerHTML = '';\n",
              "          dataTable['output_type'] = 'display_data';\n",
              "          await google.colab.output.renderOutput(dataTable, element);\n",
              "          const docLink = document.createElement('div');\n",
              "          docLink.innerHTML = docLinkHtml;\n",
              "          element.appendChild(docLink);\n",
              "        }\n",
              "      </script>\n",
              "    </div>\n",
              "  </div>\n",
              "  "
            ]
          },
          "metadata": {},
          "execution_count": 6
        }
      ]
    },
    {
      "cell_type": "markdown",
      "source": [
        "## **2. Of those who bought, what was the average dollars ordered from this catalog?**\n",
        "\n",
        "The average spending from those who ordered from the catalogue was $104.24"
      ],
      "metadata": {
        "id": "6tk6C6jZWvTN"
      }
    },
    {
      "cell_type": "code",
      "source": [
        "data[ ['dollars', 'buyer'] ].groupby('buyer').mean()"
      ],
      "metadata": {
        "id": "Y6tC-0JFWwUf",
        "colab": {
          "base_uri": "https://localhost:8080/",
          "height": 143
        },
        "outputId": "dc6503be-bfa2-4638-d723-29bf04c8b3be"
      },
      "execution_count": 7,
      "outputs": [
        {
          "output_type": "execute_result",
          "data": {
            "text/plain": [
              "          dollars\n",
              "buyer            \n",
              "no       0.000000\n",
              "yes    104.242935"
            ],
            "text/html": [
              "\n",
              "  <div id=\"df-8dd2bd67-d744-4744-8c55-6b89f7bf668a\">\n",
              "    <div class=\"colab-df-container\">\n",
              "      <div>\n",
              "<style scoped>\n",
              "    .dataframe tbody tr th:only-of-type {\n",
              "        vertical-align: middle;\n",
              "    }\n",
              "\n",
              "    .dataframe tbody tr th {\n",
              "        vertical-align: top;\n",
              "    }\n",
              "\n",
              "    .dataframe thead th {\n",
              "        text-align: right;\n",
              "    }\n",
              "</style>\n",
              "<table border=\"1\" class=\"dataframe\">\n",
              "  <thead>\n",
              "    <tr style=\"text-align: right;\">\n",
              "      <th></th>\n",
              "      <th>dollars</th>\n",
              "    </tr>\n",
              "    <tr>\n",
              "      <th>buyer</th>\n",
              "      <th></th>\n",
              "    </tr>\n",
              "  </thead>\n",
              "  <tbody>\n",
              "    <tr>\n",
              "      <th>no</th>\n",
              "      <td>0.000000</td>\n",
              "    </tr>\n",
              "    <tr>\n",
              "      <th>yes</th>\n",
              "      <td>104.242935</td>\n",
              "    </tr>\n",
              "  </tbody>\n",
              "</table>\n",
              "</div>\n",
              "      <button class=\"colab-df-convert\" onclick=\"convertToInteractive('df-8dd2bd67-d744-4744-8c55-6b89f7bf668a')\"\n",
              "              title=\"Convert this dataframe to an interactive table.\"\n",
              "              style=\"display:none;\">\n",
              "        \n",
              "  <svg xmlns=\"http://www.w3.org/2000/svg\" height=\"24px\"viewBox=\"0 0 24 24\"\n",
              "       width=\"24px\">\n",
              "    <path d=\"M0 0h24v24H0V0z\" fill=\"none\"/>\n",
              "    <path d=\"M18.56 5.44l.94 2.06.94-2.06 2.06-.94-2.06-.94-.94-2.06-.94 2.06-2.06.94zm-11 1L8.5 8.5l.94-2.06 2.06-.94-2.06-.94L8.5 2.5l-.94 2.06-2.06.94zm10 10l.94 2.06.94-2.06 2.06-.94-2.06-.94-.94-2.06-.94 2.06-2.06.94z\"/><path d=\"M17.41 7.96l-1.37-1.37c-.4-.4-.92-.59-1.43-.59-.52 0-1.04.2-1.43.59L10.3 9.45l-7.72 7.72c-.78.78-.78 2.05 0 2.83L4 21.41c.39.39.9.59 1.41.59.51 0 1.02-.2 1.41-.59l7.78-7.78 2.81-2.81c.8-.78.8-2.07 0-2.86zM5.41 20L4 18.59l7.72-7.72 1.47 1.35L5.41 20z\"/>\n",
              "  </svg>\n",
              "      </button>\n",
              "      \n",
              "  <style>\n",
              "    .colab-df-container {\n",
              "      display:flex;\n",
              "      flex-wrap:wrap;\n",
              "      gap: 12px;\n",
              "    }\n",
              "\n",
              "    .colab-df-convert {\n",
              "      background-color: #E8F0FE;\n",
              "      border: none;\n",
              "      border-radius: 50%;\n",
              "      cursor: pointer;\n",
              "      display: none;\n",
              "      fill: #1967D2;\n",
              "      height: 32px;\n",
              "      padding: 0 0 0 0;\n",
              "      width: 32px;\n",
              "    }\n",
              "\n",
              "    .colab-df-convert:hover {\n",
              "      background-color: #E2EBFA;\n",
              "      box-shadow: 0px 1px 2px rgba(60, 64, 67, 0.3), 0px 1px 3px 1px rgba(60, 64, 67, 0.15);\n",
              "      fill: #174EA6;\n",
              "    }\n",
              "\n",
              "    [theme=dark] .colab-df-convert {\n",
              "      background-color: #3B4455;\n",
              "      fill: #D2E3FC;\n",
              "    }\n",
              "\n",
              "    [theme=dark] .colab-df-convert:hover {\n",
              "      background-color: #434B5C;\n",
              "      box-shadow: 0px 1px 3px 1px rgba(0, 0, 0, 0.15);\n",
              "      filter: drop-shadow(0px 1px 2px rgba(0, 0, 0, 0.3));\n",
              "      fill: #FFFFFF;\n",
              "    }\n",
              "  </style>\n",
              "\n",
              "      <script>\n",
              "        const buttonEl =\n",
              "          document.querySelector('#df-8dd2bd67-d744-4744-8c55-6b89f7bf668a button.colab-df-convert');\n",
              "        buttonEl.style.display =\n",
              "          google.colab.kernel.accessAllowed ? 'block' : 'none';\n",
              "\n",
              "        async function convertToInteractive(key) {\n",
              "          const element = document.querySelector('#df-8dd2bd67-d744-4744-8c55-6b89f7bf668a');\n",
              "          const dataTable =\n",
              "            await google.colab.kernel.invokeFunction('convertToInteractive',\n",
              "                                                     [key], {});\n",
              "          if (!dataTable) return;\n",
              "\n",
              "          const docLinkHtml = 'Like what you see? Visit the ' +\n",
              "            '<a target=\"_blank\" href=https://colab.research.google.com/notebooks/data_table.ipynb>data table notebook</a>'\n",
              "            + ' to learn more about interactive tables.';\n",
              "          element.innerHTML = '';\n",
              "          dataTable['output_type'] = 'display_data';\n",
              "          await google.colab.output.renderOutput(dataTable, element);\n",
              "          const docLink = document.createElement('div');\n",
              "          docLink.innerHTML = docLinkHtml;\n",
              "          element.appendChild(docLink);\n",
              "        }\n",
              "      </script>\n",
              "    </div>\n",
              "  </div>\n",
              "  "
            ]
          },
          "metadata": {},
          "execution_count": 7
        }
      ]
    },
    {
      "cell_type": "markdown",
      "source": [
        "## **3. Creating decile variables for recency, frequency and monetary.**"
      ],
      "metadata": {
        "id": "U4XAElgUYRci"
      }
    },
    {
      "cell_type": "code",
      "source": [
        "recency_ntile = mba263.ntile(data['last'],10)\n",
        "recency_ntile"
      ],
      "metadata": {
        "id": "Y3ided1pYVX8",
        "colab": {
          "base_uri": "https://localhost:8080/"
        },
        "outputId": "2ae4f43b-32d5-41a8-e260-b3339c638d36"
      },
      "execution_count": 8,
      "outputs": [
        {
          "output_type": "execute_result",
          "data": {
            "text/plain": [
              "array([2, 6, 0, ..., 9, 7, 6])"
            ]
          },
          "metadata": {},
          "execution_count": 8
        }
      ]
    },
    {
      "cell_type": "code",
      "source": [
        "frequency_ntile = mba263.ntile(data['numords'],10)\n",
        "frequency_ntile"
      ],
      "metadata": {
        "id": "_6W_6pRgZ1T-",
        "colab": {
          "base_uri": "https://localhost:8080/"
        },
        "outputId": "8e3b1906-a7a7-496a-c7bb-7ff46b330679"
      },
      "execution_count": 9,
      "outputs": [
        {
          "output_type": "execute_result",
          "data": {
            "text/plain": [
              "array([8, 6, 6, ..., 0, 0, 3])"
            ]
          },
          "metadata": {},
          "execution_count": 9
        }
      ]
    },
    {
      "cell_type": "code",
      "source": [
        "monetary_ntile = mba263.ntile(data['totdol'],10)\n",
        "monetary_ntile"
      ],
      "metadata": {
        "id": "qTi4vZNOaE4T",
        "colab": {
          "base_uri": "https://localhost:8080/"
        },
        "outputId": "0f15f337-e023-407f-ea13-65de643a177c"
      },
      "execution_count": 10,
      "outputs": [
        {
          "output_type": "execute_result",
          "data": {
            "text/plain": [
              "array([8, 7, 6, ..., 6, 1, 1])"
            ]
          },
          "metadata": {},
          "execution_count": 10
        }
      ]
    },
    {
      "cell_type": "markdown",
      "source": [
        "## **4. Creating a bar chart showing the response rate (the proportion of customers who bought something) to this catalog by recency decile.**\n"
      ],
      "metadata": {
        "id": "oRJ0modAaY6H"
      }
    },
    {
      "cell_type": "code",
      "source": [
        "data['rec_dec'] = recency_ntile\n",
        "data['frec_dec'] = frequency_ntile\n",
        "data['mon_dec'] = monetary_ntile"
      ],
      "metadata": {
        "id": "cG1-WD20baY1"
      },
      "execution_count": 11,
      "outputs": []
    },
    {
      "cell_type": "code",
      "source": [
        "data['buy_dummy'] = pd.get_dummies(data['buyer'])['yes']"
      ],
      "metadata": {
        "id": "PtiuBtsTdrWs"
      },
      "execution_count": 12,
      "outputs": []
    },
    {
      "cell_type": "code",
      "source": [
        "data[ ['buy_dummy','rec_dec'] ].groupby('rec_dec').mean().plot(kind='bar')"
      ],
      "metadata": {
        "id": "eU4HIjqbbsOM",
        "colab": {
          "base_uri": "https://localhost:8080/",
          "height": 295
        },
        "outputId": "e7b4d6de-13fd-411e-e3ea-50745519e0b0"
      },
      "execution_count": 13,
      "outputs": [
        {
          "output_type": "execute_result",
          "data": {
            "text/plain": [
              "<matplotlib.axes._subplots.AxesSubplot at 0x7f6d3a2673d0>"
            ]
          },
          "metadata": {},
          "execution_count": 13
        },
        {
          "output_type": "display_data",
          "data": {
            "text/plain": [
              "<Figure size 432x288 with 1 Axes>"
            ],
            "image/png": "[encoded data removed]"
          },
          "metadata": {
            "needs_background": "light"
          }
        }
      ]
    },
    {
      "cell_type": "markdown",
      "source": [
        "## **5. Creating a bar chart showing the bar chart of response rate to this catalog by frequency decile.**\n"
      ],
      "metadata": {
        "id": "sDZbJSXUeFOJ"
      }
    },
    {
      "cell_type": "code",
      "source": [
        "data['frec_dec']=9 - data['frec_dec']"
      ],
      "metadata": {
        "id": "Iw_8rnhAe8Sy"
      },
      "execution_count": 14,
      "outputs": []
    },
    {
      "cell_type": "code",
      "source": [
        "data[ ['buy_dummy','frec_dec'] ].groupby('frec_dec').mean().plot(kind='bar')"
      ],
      "metadata": {
        "id": "TrVC43sOfV0z",
        "colab": {
          "base_uri": "https://localhost:8080/",
          "height": 295
        },
        "outputId": "1a76fc05-8be9-4827-9408-73e087d3f9c4"
      },
      "execution_count": 15,
      "outputs": [
        {
          "output_type": "execute_result",
          "data": {
            "text/plain": [
              "<matplotlib.axes._subplots.AxesSubplot at 0x7f6d3a147c70>"
            ]
          },
          "metadata": {},
          "execution_count": 15
        },
        {
          "output_type": "display_data",
          "data": {
            "text/plain": [
              "<Figure size 432x288 with 1 Axes>"
            ],
            "image/png": "[encoded data removed]"
          },
          "metadata": {
            "needs_background": "light"
          }
        }
      ]
    },
    {
      "cell_type": "markdown",
      "source": [
        "## **6. Creating a bar chart showing the bar chart of response rate to this catalog by monetary decile.**"
      ],
      "metadata": {
        "id": "U5ryYKW9ffvm"
      }
    },
    {
      "cell_type": "code",
      "source": [
        "data['mon_dec'] = 9 - data['mon_dec']"
      ],
      "metadata": {
        "id": "JnlXOuQIfqVX"
      },
      "execution_count": 16,
      "outputs": []
    },
    {
      "cell_type": "code",
      "source": [
        "data[ ['buy_dummy','mon_dec'] ].groupby('mon_dec').mean().plot(kind='bar')"
      ],
      "metadata": {
        "id": "qIQ190AAfvRb",
        "colab": {
          "base_uri": "https://localhost:8080/",
          "height": 295
        },
        "outputId": "6f129372-7d51-454a-abe7-2007b0742936"
      },
      "execution_count": 17,
      "outputs": [
        {
          "output_type": "execute_result",
          "data": {
            "text/plain": [
              "<matplotlib.axes._subplots.AxesSubplot at 0x7f6d39c9c610>"
            ]
          },
          "metadata": {},
          "execution_count": 17
        },
        {
          "output_type": "display_data",
          "data": {
            "text/plain": [
              "<Figure size 432x288 with 1 Axes>"
            ],
            "image/png": "[encoded data removed]"
          },
          "metadata": {
            "needs_background": "light"
          }
        }
      ]
    },
    {
      "cell_type": "markdown",
      "source": [
        "## **7. Using only those customers who placed an order from this catalog, I'll create three bar charts showing the average dollars ordered from this catalog by recency, frequency and monetary deciles, respectively**"
      ],
      "metadata": {
        "id": "kLNxqxxif_ny"
      }
    },
    {
      "cell_type": "code",
      "source": [
        "q7_df = data[ ['rec_dec', 'frec_dec', 'mon_dec', 'dollars', 'buy_dummy'] ]\n",
        "q7_df = q7_df.loc[q7_df['buy_dummy'] == 1]\n",
        "\n",
        "q7_df[ ['dollars', 'rec_dec'] ].groupby('rec_dec').mean().plot(kind='bar')\n",
        "q7_df[ ['dollars', 'frec_dec'] ].groupby('frec_dec').mean().plot(kind='bar')\n",
        "q7_df[ ['dollars', 'mon_dec'] ].groupby('mon_dec').mean().plot(kind='bar')"
      ],
      "metadata": {
        "id": "hqnE9Rm9gCdi",
        "colab": {
          "base_uri": "https://localhost:8080/",
          "height": 817
        },
        "outputId": "8c6aad32-befd-40ab-80c3-6b44e2d85932"
      },
      "execution_count": 18,
      "outputs": [
        {
          "output_type": "execute_result",
          "data": {
            "text/plain": [
              "<matplotlib.axes._subplots.AxesSubplot at 0x7f6d39c0bc70>"
            ]
          },
          "metadata": {},
          "execution_count": 18
        },
        {
          "output_type": "display_data",
          "data": {
            "text/plain": [
              "<Figure size 432x288 with 1 Axes>"
            ],
            "image/png": "[encoded data removed]"
          },
          "metadata": {
            "needs_background": "light"
          }
        },
        {
          "output_type": "display_data",
          "data": {
            "text/plain": [
              "<Figure size 432x288 with 1 Axes>"
            ],
            "image/png": "[encoded data removed]"
          },
          "metadata": {
            "needs_background": "light"
          }
        },
        {
          "output_type": "display_data",
          "data": {
            "text/plain": [
              "<Figure size 432x288 with 1 Axes>"
            ],
            "image/png": "[encoded data removed]"
          },
          "metadata": {
            "needs_background": "light"
          }
        }
      ]
    },
    {
      "cell_type": "markdown",
      "source": [
        "## 8. What do the above bar charts reveal about the likelihood of response and the size of the order across the different recency, frequency, and monetary deciles?\n",
        "\n",
        "The chart for recency tells us that recency is not a good indicator of whether or not a customer is going to spend a lot of money through the marketing tactic of mailing catalogs as the amount of money spent across all deciles is about the same. Although the chart for frecuency does vary a little bit more than the recency chart, I'd say that it's also not a good indicator for money spent after mailing a catalogue as the money spent is similar across deciles.\n",
        "\n",
        "The chart for monetary value spent does tell us that customer who in the past had spent a lot of money will spend a lot of money after being sent a catalogue as we can see that the 0 decile spent significantly more money that the rest of the deciles. "
      ],
      "metadata": {
        "id": "JFdYEYXEKNPJ"
      }
    },
    {
      "cell_type": "markdown",
      "source": [
        "##9. What would happen if we mailed to the 1,834,469 (=1,931,020-96,551) remaining customers.\n",
        "\n",
        "(a) What would be the expected gross profit in dollars?\n",
        "\n",
        "(b) What would be the expected gross profit as a % of expected gross sales?\n",
        "\n",
        "(c) What would be the expected return on marketing expenditures (gross profit/cost to mail catalogs)?\n",
        "\n",
        "**Assuming that:**\n",
        "\n",
        "Cost to produce and mail catalog = $1\n",
        "COGS and variable costs on orders = 50% (of sales revenues) "
      ],
      "metadata": {
        "id": "iI_Z9oWLMXOb"
      }
    },
    {
      "cell_type": "markdown",
      "source": [
        "**9a. The expected gross profit in dollars would be = 513,551.00**\n",
        "\n",
        "Formula: (1834469 * response_rate (about 0.024557) * (average spent * 0.50)) - (1*1834469)"
      ],
      "metadata": {
        "id": "iowAkSONMdmC"
      }
    },
    {
      "cell_type": "code",
      "source": [
        "avg_spent = q7_df['dollars'].mean()\n",
        "print(avg_spent)\n",
        "\n",
        "gross_profit = ((1834469 * percentage_responded ) * (avg_spent * 0.50)) - (1 * 1834469) \n",
        "gross_profit"
      ],
      "metadata": {
        "id": "Ohg0ClGpNTgw",
        "colab": {
          "base_uri": "https://localhost:8080/"
        },
        "outputId": "363f965c-20ed-4140-d725-772477f2110b"
      },
      "execution_count": 19,
      "outputs": [
        {
          "output_type": "stream",
          "name": "stdout",
          "text": [
            "104.2429354702657\n"
          ]
        },
        {
          "output_type": "execute_result",
          "data": {
            "text/plain": [
              "513551.0"
            ]
          },
          "metadata": {},
          "execution_count": 19
        }
      ]
    },
    {
      "cell_type": "markdown",
      "source": [],
      "metadata": {
        "id": "6FtrPQOfXrp7"
      }
    },
    {
      "cell_type": "markdown",
      "source": [
        "**9b. The expected gross profit as a % of expected gross sales = 10.9%**"
      ],
      "metadata": {
        "id": "WugeCD7PXyjw"
      }
    },
    {
      "cell_type": "code",
      "source": [
        "q9b = gross_profit / ((1834469 * percentage_responded ) * avg_spent)\n",
        "q9b"
      ],
      "metadata": {
        "colab": {
          "base_uri": "https://localhost:8080/"
        },
        "id": "pLUM-bimX2ZK",
        "outputId": "4cc22cde-cb60-4b83-96ff-53c00d49a6a3"
      },
      "execution_count": 20,
      "outputs": [
        {
          "output_type": "execute_result",
          "data": {
            "text/plain": [
              "0.1093583104062146"
            ]
          },
          "metadata": {},
          "execution_count": 20
        }
      ]
    },
    {
      "cell_type": "markdown",
      "source": [
        "**9c. The expected return on marketing expenditures (gross profit/cost to mail catalogs) = 27.9%**"
      ],
      "metadata": {
        "id": "E3DHRiPbY9R0"
      }
    },
    {
      "cell_type": "code",
      "source": [
        "q9c = gross_profit / (1 * 1834469)\n",
        "q9c"
      ],
      "metadata": {
        "colab": {
          "base_uri": "https://localhost:8080/"
        },
        "id": "JSxrnE6tZBh4",
        "outputId": "b3c62e49-9987-42e6-a6bc-f9db6fdd9f8c"
      },
      "execution_count": 21,
      "outputs": [
        {
          "output_type": "execute_result",
          "data": {
            "text/plain": [
              "0.27994531387556837"
            ]
          },
          "metadata": {},
          "execution_count": 21
        }
      ]
    },
    {
      "cell_type": "markdown",
      "source": [
        "## **10. What is the breakeven response rate?**\n",
        "\n",
        "<br>\n",
        "Break even formula:\n",
        "$$\\text{Break even response}=\\frac{\\text{Cost of mailing}}{\\text{Profit per sale}}$$\n",
        "\n",
        "**1.9%**"
      ],
      "metadata": {
        "id": "x7b3jPw_Zkeh"
      }
    },
    {
      "cell_type": "code",
      "source": [
        "breakeven = 1 / (avg_spent * 0.50)\n",
        "breakeven"
      ],
      "metadata": {
        "colab": {
          "base_uri": "https://localhost:8080/"
        },
        "id": "upzlVubXZmFE",
        "outputId": "c32723ad-1932-4297-b513-99777286cc45"
      },
      "execution_count": 22,
      "outputs": [
        {
          "output_type": "execute_result",
          "data": {
            "text/plain": [
              "0.019185952419485355"
            ]
          },
          "metadata": {},
          "execution_count": 22
        }
      ]
    },
    {
      "cell_type": "markdown",
      "source": [
        "## **11. If we considered mailing only to those of the remaining 1,834,469 customers in RFM cells (using the sequential n-tiles approach) with a response rate that is equal to or greater than the breakeven response rate, what would be \n",
        "\n",
        "(a) the expected gross profit in dollars\n",
        "\n",
        "(b) the expected gross profit as a % of expected gross sales\n",
        "\n",
        "(c) the expected return on marketing expenditures (gross profit/cost to mail catalogs)"
      ],
      "metadata": {
        "id": "cJPgljCZaZm_"
      }
    },
    {
      "cell_type": "code",
      "source": [
        "data['responserate_iq']=mba263.get_means(data['buy_dummy'],data['rfm2'])\n",
        "data['mailto_iq']=(data['responserate_iq']>0.0192)*1\n",
        "\n",
        "datamailing = data[data['mailto_iq']==1]\n",
        "datamailing.head()\n",
        "\n",
        "mba263.tabulate(datamailing['buy_dummy'])"
      ],
      "metadata": {
        "colab": {
          "base_uri": "https://localhost:8080/",
          "height": 112
        },
        "id": "amK-gzhR4inY",
        "outputId": "c60ed6b4-574c-4768-a286-c29829e7919d"
      },
      "execution_count": 25,
      "outputs": [
        {
          "output_type": "execute_result",
          "data": {
            "text/plain": [
              "   Name  Count  Frequency\n",
              "0     0  50905   0.966453\n",
              "1     1   1767   0.033547"
            ],
            "text/html": [
              "\n",
              "  <div id=\"df-0ac7bad5-8ef3-4751-9e54-b9c111022be0\">\n",
              "    <div class=\"colab-df-container\">\n",
              "      <div>\n",
              "<style scoped>\n",
              "    .dataframe tbody tr th:only-of-type {\n",
              "        vertical-align: middle;\n",
              "    }\n",
              "\n",
              "    .dataframe tbody tr th {\n",
              "        vertical-align: top;\n",
              "    }\n",
              "\n",
              "    .dataframe thead th {\n",
              "        text-align: right;\n",
              "    }\n",
              "</style>\n",
              "<table border=\"1\" class=\"dataframe\">\n",
              "  <thead>\n",
              "    <tr style=\"text-align: right;\">\n",
              "      <th></th>\n",
              "      <th>Name</th>\n",
              "      <th>Count</th>\n",
              "      <th>Frequency</th>\n",
              "    </tr>\n",
              "  </thead>\n",
              "  <tbody>\n",
              "    <tr>\n",
              "      <th>0</th>\n",
              "      <td>0</td>\n",
              "      <td>50905</td>\n",
              "      <td>0.966453</td>\n",
              "    </tr>\n",
              "    <tr>\n",
              "      <th>1</th>\n",
              "      <td>1</td>\n",
              "      <td>1767</td>\n",
              "      <td>0.033547</td>\n",
              "    </tr>\n",
              "  </tbody>\n",
              "</table>\n",
              "</div>\n",
              "      <button class=\"colab-df-convert\" onclick=\"convertToInteractive('df-0ac7bad5-8ef3-4751-9e54-b9c111022be0')\"\n",
              "              title=\"Convert this dataframe to an interactive table.\"\n",
              "              style=\"display:none;\">\n",
              "        \n",
              "  <svg xmlns=\"http://www.w3.org/2000/svg\" height=\"24px\"viewBox=\"0 0 24 24\"\n",
              "       width=\"24px\">\n",
              "    <path d=\"M0 0h24v24H0V0z\" fill=\"none\"/>\n",
              "    <path d=\"M18.56 5.44l.94 2.06.94-2.06 2.06-.94-2.06-.94-.94-2.06-.94 2.06-2.06.94zm-11 1L8.5 8.5l.94-2.06 2.06-.94-2.06-.94L8.5 2.5l-.94 2.06-2.06.94zm10 10l.94 2.06.94-2.06 2.06-.94-2.06-.94-.94-2.06-.94 2.06-2.06.94z\"/><path d=\"M17.41 7.96l-1.37-1.37c-.4-.4-.92-.59-1.43-.59-.52 0-1.04.2-1.43.59L10.3 9.45l-7.72 7.72c-.78.78-.78 2.05 0 2.83L4 21.41c.39.39.9.59 1.41.59.51 0 1.02-.2 1.41-.59l7.78-7.78 2.81-2.81c.8-.78.8-2.07 0-2.86zM5.41 20L4 18.59l7.72-7.72 1.47 1.35L5.41 20z\"/>\n",
              "  </svg>\n",
              "      </button>\n",
              "      \n",
              "  <style>\n",
              "    .colab-df-container {\n",
              "      display:flex;\n",
              "      flex-wrap:wrap;\n",
              "      gap: 12px;\n",
              "    }\n",
              "\n",
              "    .colab-df-convert {\n",
              "      background-color: #E8F0FE;\n",
              "      border: none;\n",
              "      border-radius: 50%;\n",
              "      cursor: pointer;\n",
              "      display: none;\n",
              "      fill: #1967D2;\n",
              "      height: 32px;\n",
              "      padding: 0 0 0 0;\n",
              "      width: 32px;\n",
              "    }\n",
              "\n",
              "    .colab-df-convert:hover {\n",
              "      background-color: #E2EBFA;\n",
              "      box-shadow: 0px 1px 2px rgba(60, 64, 67, 0.3), 0px 1px 3px 1px rgba(60, 64, 67, 0.15);\n",
              "      fill: #174EA6;\n",
              "    }\n",
              "\n",
              "    [theme=dark] .colab-df-convert {\n",
              "      background-color: #3B4455;\n",
              "      fill: #D2E3FC;\n",
              "    }\n",
              "\n",
              "    [theme=dark] .colab-df-convert:hover {\n",
              "      background-color: #434B5C;\n",
              "      box-shadow: 0px 1px 3px 1px rgba(0, 0, 0, 0.15);\n",
              "      filter: drop-shadow(0px 1px 2px rgba(0, 0, 0, 0.3));\n",
              "      fill: #FFFFFF;\n",
              "    }\n",
              "  </style>\n",
              "\n",
              "      <script>\n",
              "        const buttonEl =\n",
              "          document.querySelector('#df-0ac7bad5-8ef3-4751-9e54-b9c111022be0 button.colab-df-convert');\n",
              "        buttonEl.style.display =\n",
              "          google.colab.kernel.accessAllowed ? 'block' : 'none';\n",
              "\n",
              "        async function convertToInteractive(key) {\n",
              "          const element = document.querySelector('#df-0ac7bad5-8ef3-4751-9e54-b9c111022be0');\n",
              "          const dataTable =\n",
              "            await google.colab.kernel.invokeFunction('convertToInteractive',\n",
              "                                                     [key], {});\n",
              "          if (!dataTable) return;\n",
              "\n",
              "          const docLinkHtml = 'Like what you see? Visit the ' +\n",
              "            '<a target=\"_blank\" href=https://colab.research.google.com/notebooks/data_table.ipynb>data table notebook</a>'\n",
              "            + ' to learn more about interactive tables.';\n",
              "          element.innerHTML = '';\n",
              "          dataTable['output_type'] = 'display_data';\n",
              "          await google.colab.output.renderOutput(dataTable, element);\n",
              "          const docLink = document.createElement('div');\n",
              "          docLink.innerHTML = docLinkHtml;\n",
              "          element.appendChild(docLink);\n",
              "        }\n",
              "      </script>\n",
              "    </div>\n",
              "  </div>\n",
              "  "
            ]
          },
          "metadata": {},
          "execution_count": 25
        }
      ]
    },
    {
      "cell_type": "code",
      "source": [
        "num_customers = len(datamailing)\n",
        "print(\"Number of customers:\", num_customers)\n",
        "num_buyers = num_customers * 0.033547\n",
        "print(\"Number of buyers:\", num_buyers)\n",
        "\n",
        "q11_gross_profit = ((num_buyers) * (avg_spent * 0.50)) - (1 * num_customers) \n",
        "print(q11_gross_profit)\n",
        "\n",
        "q11b = q11_gross_profit / ((num_buyers) * (avg_spent * 0.50))\n",
        "print(q11b)\n",
        "\n",
        "q11c = q11_gross_profit / (1 * num_customers)\n",
        "print(q11c)"
      ],
      "metadata": {
        "colab": {
          "base_uri": "https://localhost:8080/"
        },
        "id": "oZJxI1qMdIcr",
        "outputId": "43cff044-46a1-43bd-cac7-1caf37b87abc"
      },
      "execution_count": 26,
      "outputs": [
        {
          "output_type": "stream",
          "name": "stdout",
          "text": [
            "Number of customers: 52672\n",
            "Number of buyers: 1766.987584\n",
            "39425.986347836355\n",
            "0.42808738726308304\n",
            "0.7485188781105019\n"
          ]
        }
      ]
    },
    {
      "cell_type": "markdown",
      "source": [
        "11a) The expected gross profit in dollars: **$39,425.98**\n",
        "\n",
        "11b) The expected gross profit as a % of expected gross sales: **42.8%**\n",
        "\n",
        "11c) The expected return on marketing expenditures (gross profit/cost to mail catalogs): **74.8%**\n",
        "\n",
        "If we mail to the subset of customers in the 'profitable' segments, we would have a higher ROI, but we don't want to only mail to this customer because we would be losing the opportunity of gaining new customers. We also don't want to send so much mail to the profitable customers to the point where it's spam.\n"
      ],
      "metadata": {
        "id": "F47DyoyZeua9"
      }
    }
  ]
}